{
 "cells": [
  {
   "cell_type": "markdown",
   "id": "afacc279",
   "metadata": {},
   "source": [
    "# Практические задания к лекции 1. #\n",
    "## Задача №1 ##\n",
    "**Из колоды в 52 карты извлекаются случайным образом 4 карты.\n",
    "    a) Найти вероятность того, что все карты – крести.\n",
    "    б) Найти вероятность, что среди 4-х карт окажется хотя бы один туз.**\n",
    "   ### Решение задачи №1 ###\n",
    "   а) \n",
    "    "
   ]
  }
 ],
 "metadata": {
  "kernelspec": {
   "display_name": "Python 3 (ipykernel)",
   "language": "python",
   "name": "python3"
  },
  "language_info": {
   "codemirror_mode": {
    "name": "ipython",
    "version": 3
   },
   "file_extension": ".py",
   "mimetype": "text/x-python",
   "name": "python",
   "nbconvert_exporter": "python",
   "pygments_lexer": "ipython3",
   "version": "3.9.13"
  }
 },
 "nbformat": 4,
 "nbformat_minor": 5
}
